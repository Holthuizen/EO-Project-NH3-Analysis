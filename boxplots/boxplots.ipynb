{
 "cells": [
  {
   "cell_type": "code",
   "execution_count": 40,
   "metadata": {},
   "outputs": [
    {
     "data": {
      "text/html": [
       "<div>\n",
       "<style scoped>\n",
       "    .dataframe tbody tr th:only-of-type {\n",
       "        vertical-align: middle;\n",
       "    }\n",
       "\n",
       "    .dataframe tbody tr th {\n",
       "        vertical-align: top;\n",
       "    }\n",
       "\n",
       "    .dataframe thead th {\n",
       "        text-align: right;\n",
       "    }\n",
       "</style>\n",
       "<table border=\"1\" class=\"dataframe\">\n",
       "  <thead>\n",
       "    <tr style=\"text-align: right;\">\n",
       "      <th></th>\n",
       "      <th>Datetime</th>\n",
       "      <th>NH3</th>\n",
       "      <th>Lat</th>\n",
       "      <th>Lon</th>\n",
       "      <th>Station</th>\n",
       "    </tr>\n",
       "  </thead>\n",
       "  <tbody>\n",
       "    <tr>\n",
       "      <th>0</th>\n",
       "      <td>2012-01-01 04:00:00</td>\n",
       "      <td>0.105955</td>\n",
       "      <td>51.54052</td>\n",
       "      <td>5.85307</td>\n",
       "      <td>NL10131</td>\n",
       "    </tr>\n",
       "    <tr>\n",
       "      <th>1</th>\n",
       "      <td>2012-01-01 05:00:00</td>\n",
       "      <td>0.119305</td>\n",
       "      <td>51.54052</td>\n",
       "      <td>5.85307</td>\n",
       "      <td>NL10131</td>\n",
       "    </tr>\n",
       "    <tr>\n",
       "      <th>2</th>\n",
       "      <td>2012-01-01 06:00:00</td>\n",
       "      <td>0.119305</td>\n",
       "      <td>51.54052</td>\n",
       "      <td>5.85307</td>\n",
       "      <td>NL10131</td>\n",
       "    </tr>\n",
       "    <tr>\n",
       "      <th>3</th>\n",
       "      <td>2012-01-01 07:00:00</td>\n",
       "      <td>0.119305</td>\n",
       "      <td>51.54052</td>\n",
       "      <td>5.85307</td>\n",
       "      <td>NL10131</td>\n",
       "    </tr>\n",
       "    <tr>\n",
       "      <th>4</th>\n",
       "      <td>2012-01-01 08:00:00</td>\n",
       "      <td>0.119305</td>\n",
       "      <td>51.54052</td>\n",
       "      <td>5.85307</td>\n",
       "      <td>NL10131</td>\n",
       "    </tr>\n",
       "  </tbody>\n",
       "</table>\n",
       "</div>"
      ],
      "text/plain": [
       "             Datetime       NH3       Lat      Lon  Station\n",
       "0 2012-01-01 04:00:00  0.105955  51.54052  5.85307  NL10131\n",
       "1 2012-01-01 05:00:00  0.119305  51.54052  5.85307  NL10131\n",
       "2 2012-01-01 06:00:00  0.119305  51.54052  5.85307  NL10131\n",
       "3 2012-01-01 07:00:00  0.119305  51.54052  5.85307  NL10131\n",
       "4 2012-01-01 08:00:00  0.119305  51.54052  5.85307  NL10131"
      ]
     },
     "execution_count": 40,
     "metadata": {},
     "output_type": "execute_result"
    }
   ],
   "source": [
    "import pandas as pd\n",
    "import seaborn as sns\n",
    "import matplotlib.pyplot as plt\n",
    "#check path \n",
    "data = pd.read_csv(\"measurements/normalized/NL10131_2012_2021.csv\")\n",
    "\n",
    "data[\"Datetime\"] = pd.to_datetime(data[\"Datetime\"])\n",
    "#copy to create a new data frame separate from the input values\n",
    "df = data.copy()\n",
    "\n",
    "#optional set Datetime as index\n",
    "#df.set_index(\"Datetime\", inplace=True)\n",
    "#show index\n",
    "#df.index\n",
    "\n",
    "#show first 5 rows\n",
    "data.head()"
   ]
  },
  {
   "cell_type": "code",
   "execution_count": 41,
   "metadata": {},
   "outputs": [
    {
     "data": {
      "text/html": [
       "<div>\n",
       "<style scoped>\n",
       "    .dataframe tbody tr th:only-of-type {\n",
       "        vertical-align: middle;\n",
       "    }\n",
       "\n",
       "    .dataframe tbody tr th {\n",
       "        vertical-align: top;\n",
       "    }\n",
       "\n",
       "    .dataframe thead th {\n",
       "        text-align: right;\n",
       "    }\n",
       "</style>\n",
       "<table border=\"1\" class=\"dataframe\">\n",
       "  <thead>\n",
       "    <tr style=\"text-align: right;\">\n",
       "      <th></th>\n",
       "      <th>Datetime</th>\n",
       "      <th>NH3</th>\n",
       "      <th>Lat</th>\n",
       "      <th>Lon</th>\n",
       "      <th>Station</th>\n",
       "      <th>weekday</th>\n",
       "    </tr>\n",
       "  </thead>\n",
       "  <tbody>\n",
       "    <tr>\n",
       "      <th>0</th>\n",
       "      <td>2012-01-01 04:00:00</td>\n",
       "      <td>0.105955</td>\n",
       "      <td>51.54052</td>\n",
       "      <td>5.85307</td>\n",
       "      <td>NL10131</td>\n",
       "      <td>Sunday</td>\n",
       "    </tr>\n",
       "    <tr>\n",
       "      <th>1</th>\n",
       "      <td>2012-01-01 05:00:00</td>\n",
       "      <td>0.119305</td>\n",
       "      <td>51.54052</td>\n",
       "      <td>5.85307</td>\n",
       "      <td>NL10131</td>\n",
       "      <td>Sunday</td>\n",
       "    </tr>\n",
       "    <tr>\n",
       "      <th>2</th>\n",
       "      <td>2012-01-01 06:00:00</td>\n",
       "      <td>0.119305</td>\n",
       "      <td>51.54052</td>\n",
       "      <td>5.85307</td>\n",
       "      <td>NL10131</td>\n",
       "      <td>Sunday</td>\n",
       "    </tr>\n",
       "    <tr>\n",
       "      <th>3</th>\n",
       "      <td>2012-01-01 07:00:00</td>\n",
       "      <td>0.119305</td>\n",
       "      <td>51.54052</td>\n",
       "      <td>5.85307</td>\n",
       "      <td>NL10131</td>\n",
       "      <td>Sunday</td>\n",
       "    </tr>\n",
       "    <tr>\n",
       "      <th>4</th>\n",
       "      <td>2012-01-01 08:00:00</td>\n",
       "      <td>0.119305</td>\n",
       "      <td>51.54052</td>\n",
       "      <td>5.85307</td>\n",
       "      <td>NL10131</td>\n",
       "      <td>Sunday</td>\n",
       "    </tr>\n",
       "  </tbody>\n",
       "</table>\n",
       "</div>"
      ],
      "text/plain": [
       "             Datetime       NH3       Lat      Lon  Station weekday\n",
       "0 2012-01-01 04:00:00  0.105955  51.54052  5.85307  NL10131  Sunday\n",
       "1 2012-01-01 05:00:00  0.119305  51.54052  5.85307  NL10131  Sunday\n",
       "2 2012-01-01 06:00:00  0.119305  51.54052  5.85307  NL10131  Sunday\n",
       "3 2012-01-01 07:00:00  0.119305  51.54052  5.85307  NL10131  Sunday\n",
       "4 2012-01-01 08:00:00  0.119305  51.54052  5.85307  NL10131  Sunday"
      ]
     },
     "execution_count": 41,
     "metadata": {},
     "output_type": "execute_result"
    }
   ],
   "source": [
    "#append the day of the week to each data point (row)\n",
    "def add_weekday_column(df, date_column):\n",
    "    df['weekday'] = df[date_column].dt.day_name()\n",
    "    return df\n",
    "\n",
    "df_weekdays_2012_2021 = add_weekday_column(df, 'Datetime')\n",
    "df_weekdays_2012_2021.head(5)"
   ]
  },
  {
   "cell_type": "code",
   "execution_count": 42,
   "metadata": {},
   "outputs": [
    {
     "data": {
      "text/html": [
       "<div>\n",
       "<style scoped>\n",
       "    .dataframe tbody tr th:only-of-type {\n",
       "        vertical-align: middle;\n",
       "    }\n",
       "\n",
       "    .dataframe tbody tr th {\n",
       "        vertical-align: top;\n",
       "    }\n",
       "\n",
       "    .dataframe thead th {\n",
       "        text-align: right;\n",
       "    }\n",
       "</style>\n",
       "<table border=\"1\" class=\"dataframe\">\n",
       "  <thead>\n",
       "    <tr style=\"text-align: right;\">\n",
       "      <th></th>\n",
       "      <th>Datetime</th>\n",
       "      <th>NH3</th>\n",
       "      <th>Lat</th>\n",
       "      <th>Lon</th>\n",
       "      <th>Station</th>\n",
       "      <th>weekday</th>\n",
       "    </tr>\n",
       "  </thead>\n",
       "  <tbody>\n",
       "    <tr>\n",
       "      <th>70017</th>\n",
       "      <td>2020-02-15</td>\n",
       "      <td>0.264524</td>\n",
       "      <td>51.54052</td>\n",
       "      <td>5.85307</td>\n",
       "      <td>NL10131</td>\n",
       "      <td>Saturday</td>\n",
       "    </tr>\n",
       "    <tr>\n",
       "      <th>70041</th>\n",
       "      <td>2020-02-16</td>\n",
       "      <td>0.070117</td>\n",
       "      <td>51.54052</td>\n",
       "      <td>5.85307</td>\n",
       "      <td>NL10131</td>\n",
       "      <td>Sunday</td>\n",
       "    </tr>\n",
       "    <tr>\n",
       "      <th>70065</th>\n",
       "      <td>2020-02-17</td>\n",
       "      <td>0.033467</td>\n",
       "      <td>51.54052</td>\n",
       "      <td>5.85307</td>\n",
       "      <td>NL10131</td>\n",
       "      <td>Monday</td>\n",
       "    </tr>\n",
       "    <tr>\n",
       "      <th>70089</th>\n",
       "      <td>2020-02-18</td>\n",
       "      <td>0.046838</td>\n",
       "      <td>51.54052</td>\n",
       "      <td>5.85307</td>\n",
       "      <td>NL10131</td>\n",
       "      <td>Tuesday</td>\n",
       "    </tr>\n",
       "    <tr>\n",
       "      <th>70113</th>\n",
       "      <td>2020-02-19</td>\n",
       "      <td>0.058350</td>\n",
       "      <td>51.54052</td>\n",
       "      <td>5.85307</td>\n",
       "      <td>NL10131</td>\n",
       "      <td>Wednesday</td>\n",
       "    </tr>\n",
       "  </tbody>\n",
       "</table>\n",
       "</div>"
      ],
      "text/plain": [
       "        Datetime       NH3       Lat      Lon  Station    weekday\n",
       "70017 2020-02-15  0.264524  51.54052  5.85307  NL10131   Saturday\n",
       "70041 2020-02-16  0.070117  51.54052  5.85307  NL10131     Sunday\n",
       "70065 2020-02-17  0.033467  51.54052  5.85307  NL10131     Monday\n",
       "70089 2020-02-18  0.046838  51.54052  5.85307  NL10131    Tuesday\n",
       "70113 2020-02-19  0.058350  51.54052  5.85307  NL10131  Wednesday"
      ]
     },
     "execution_count": 42,
     "metadata": {},
     "output_type": "execute_result"
    }
   ],
   "source": [
    "#range of dates compatible with datetime format. \n",
    "start_date, end_date =  '2020-02-15', '2020-08-31'\n",
    "date_range = pd.date_range(start=start_date, end=end_date)\n",
    "\n",
    "df_subset = df_weekdays_2012_2021[df_weekdays_2012_2021['Datetime'].isin(date_range)]\n",
    "df_subset.head(5)"
   ]
  },
  {
   "cell_type": "code",
   "execution_count": 43,
   "metadata": {},
   "outputs": [
    {
     "name": "stderr",
     "output_type": "stream",
     "text": [
      "C:\\Users\\cedri\\AppData\\Local\\Temp\\ipykernel_15896\\94581184.py:11: UserWarning: Matplotlib is currently using module://matplotlib_inline.backend_inline, which is a non-GUI backend, so cannot show the figure.\n",
      "  f.show()\n"
     ]
    },
    {
     "data": {
      "image/png": "[encoded data removed]",
      "text/plain": [
       "<Figure size 600x600 with 1 Axes>"
      ]
     },
     "metadata": {},
     "output_type": "display_data"
    }
   ],
   "source": [
    "#create boxplot based on date_range form previous cell.\n",
    "f = plt.figure(figsize=(6,6))\n",
    "sns.set_style('ticks')\n",
    "ax = sns.boxplot(x='weekday', y='NH3', data=df_subset[[\"NH3\", \"weekday\"]], color='g', order=[\"Monday\", \"Tuesday\", \"Wednesday\", \"Thursday\", \"Friday\", \"Saturday\", \"Sunday\"])\n",
    "ax.grid()\n",
    "#ax.axhline(0.1)\n",
    "ax.set(xlabel='Days of the week', ylabel='normalized NH3 levels', title='NL10131 normalized NH3 values from '\n",
    "       +str(start_date)+\" to \"+str(end_date)+\".\")\n",
    "f.tight_layout()\n",
    "f.savefig(f\"output/boxplotNH3_\" + str(start_date)+\"_\"+str(end_date)+\".png\", dpi=300)\n",
    "f.show()"
   ]
  },
  {
   "cell_type": "code",
   "execution_count": 44,
   "metadata": {},
   "outputs": [
    {
     "data": {
      "text/plain": [
       "' \\n    TODO\\n    Used the above code to do the following: \\n    Create weekday based box-plots for each year, one for the manure (red) and non-manure season (blue). \\n    Make sure the title reflects the period and station name\\n    Do this separately for the 6 stations (or which ever stations are of interested)\\n'"
      ]
     },
     "execution_count": 44,
     "metadata": {},
     "output_type": "execute_result"
    }
   ],
   "source": [
    "\"\"\" \n",
    "    TODO\n",
    "    Used the above code to do the following: \n",
    "    Create weekday based box-plots for each year, one for the manure (red) and non-manure season (blue). \n",
    "    Make sure the title reflects the period and station name\n",
    "    Do this separately for the 6 stations (or which ever stations are of interested)\n",
    "\"\"\""
   ]
  },
  {
   "cell_type": "code",
   "execution_count": null,
   "metadata": {},
   "outputs": [],
   "source": []
  },
  {
   "cell_type": "code",
   "execution_count": 74,
   "metadata": {},
   "outputs": [
    {
     "data": {
      "text/html": [
       "<div>\n",
       "<style scoped>\n",
       "    .dataframe tbody tr th:only-of-type {\n",
       "        vertical-align: middle;\n",
       "    }\n",
       "\n",
       "    .dataframe tbody tr th {\n",
       "        vertical-align: top;\n",
       "    }\n",
       "\n",
       "    .dataframe thead th {\n",
       "        text-align: right;\n",
       "    }\n",
       "</style>\n",
       "<table border=\"1\" class=\"dataframe\">\n",
       "  <thead>\n",
       "    <tr style=\"text-align: right;\">\n",
       "      <th></th>\n",
       "      <th>Datetime</th>\n",
       "      <th>NH3</th>\n",
       "      <th>Lat</th>\n",
       "      <th>Lon</th>\n",
       "      <th>Station</th>\n",
       "    </tr>\n",
       "  </thead>\n",
       "  <tbody>\n",
       "    <tr>\n",
       "      <th>0</th>\n",
       "      <td>2012-01-01 04:00:00</td>\n",
       "      <td>0.053328</td>\n",
       "      <td>52.13795</td>\n",
       "      <td>4.83819</td>\n",
       "      <td>NL10633</td>\n",
       "    </tr>\n",
       "    <tr>\n",
       "      <th>1</th>\n",
       "      <td>2012-01-01 05:00:00</td>\n",
       "      <td>0.053328</td>\n",
       "      <td>52.13795</td>\n",
       "      <td>4.83819</td>\n",
       "      <td>NL10633</td>\n",
       "    </tr>\n",
       "    <tr>\n",
       "      <th>2</th>\n",
       "      <td>2012-01-01 06:00:00</td>\n",
       "      <td>0.066553</td>\n",
       "      <td>52.13795</td>\n",
       "      <td>4.83819</td>\n",
       "      <td>NL10633</td>\n",
       "    </tr>\n",
       "    <tr>\n",
       "      <th>3</th>\n",
       "      <td>2012-01-01 07:00:00</td>\n",
       "      <td>0.055461</td>\n",
       "      <td>52.13795</td>\n",
       "      <td>4.83819</td>\n",
       "      <td>NL10633</td>\n",
       "    </tr>\n",
       "    <tr>\n",
       "      <th>4</th>\n",
       "      <td>2012-01-01 08:00:00</td>\n",
       "      <td>0.066553</td>\n",
       "      <td>52.13795</td>\n",
       "      <td>4.83819</td>\n",
       "      <td>NL10633</td>\n",
       "    </tr>\n",
       "  </tbody>\n",
       "</table>\n",
       "</div>"
      ],
      "text/plain": [
       "             Datetime       NH3       Lat      Lon  Station\n",
       "0 2012-01-01 04:00:00  0.053328  52.13795  4.83819  NL10633\n",
       "1 2012-01-01 05:00:00  0.053328  52.13795  4.83819  NL10633\n",
       "2 2012-01-01 06:00:00  0.066553  52.13795  4.83819  NL10633\n",
       "3 2012-01-01 07:00:00  0.055461  52.13795  4.83819  NL10633\n",
       "4 2012-01-01 08:00:00  0.066553  52.13795  4.83819  NL10633"
      ]
     },
     "execution_count": 74,
     "metadata": {},
     "output_type": "execute_result"
    }
   ],
   "source": [
    "#MAN TEST\n",
    "from scipy.stats import mannwhitneyu\n",
    "import numpy as np\n",
    "import matplotlib.pyplot as plt\n",
    "import pandas as pd\n",
    "import datetime\n",
    "\n",
    "df = pd.read_csv('measurements/normalized/NL10633_2012_2021.csv', parse_dates=[0])\n",
    "df.head(5)"
   ]
  },
  {
   "cell_type": "code",
   "execution_count": 75,
   "metadata": {},
   "outputs": [
    {
     "data": {
      "text/html": [
       "<div>\n",
       "<style scoped>\n",
       "    .dataframe tbody tr th:only-of-type {\n",
       "        vertical-align: middle;\n",
       "    }\n",
       "\n",
       "    .dataframe tbody tr th {\n",
       "        vertical-align: top;\n",
       "    }\n",
       "\n",
       "    .dataframe thead th {\n",
       "        text-align: right;\n",
       "    }\n",
       "</style>\n",
       "<table border=\"1\" class=\"dataframe\">\n",
       "  <thead>\n",
       "    <tr style=\"text-align: right;\">\n",
       "      <th></th>\n",
       "      <th>Datetime</th>\n",
       "      <th>NH3</th>\n",
       "      <th>Lat</th>\n",
       "      <th>Lon</th>\n",
       "      <th>Station</th>\n",
       "      <th>weekday</th>\n",
       "    </tr>\n",
       "  </thead>\n",
       "  <tbody>\n",
       "    <tr>\n",
       "      <th>0</th>\n",
       "      <td>2012-01-01 04:00:00</td>\n",
       "      <td>0.053328</td>\n",
       "      <td>52.13795</td>\n",
       "      <td>4.83819</td>\n",
       "      <td>NL10633</td>\n",
       "      <td>Sunday</td>\n",
       "    </tr>\n",
       "    <tr>\n",
       "      <th>1</th>\n",
       "      <td>2012-01-01 05:00:00</td>\n",
       "      <td>0.053328</td>\n",
       "      <td>52.13795</td>\n",
       "      <td>4.83819</td>\n",
       "      <td>NL10633</td>\n",
       "      <td>Sunday</td>\n",
       "    </tr>\n",
       "    <tr>\n",
       "      <th>2</th>\n",
       "      <td>2012-01-01 06:00:00</td>\n",
       "      <td>0.066553</td>\n",
       "      <td>52.13795</td>\n",
       "      <td>4.83819</td>\n",
       "      <td>NL10633</td>\n",
       "      <td>Sunday</td>\n",
       "    </tr>\n",
       "    <tr>\n",
       "      <th>3</th>\n",
       "      <td>2012-01-01 07:00:00</td>\n",
       "      <td>0.055461</td>\n",
       "      <td>52.13795</td>\n",
       "      <td>4.83819</td>\n",
       "      <td>NL10633</td>\n",
       "      <td>Sunday</td>\n",
       "    </tr>\n",
       "    <tr>\n",
       "      <th>4</th>\n",
       "      <td>2012-01-01 08:00:00</td>\n",
       "      <td>0.066553</td>\n",
       "      <td>52.13795</td>\n",
       "      <td>4.83819</td>\n",
       "      <td>NL10633</td>\n",
       "      <td>Sunday</td>\n",
       "    </tr>\n",
       "  </tbody>\n",
       "</table>\n",
       "</div>"
      ],
      "text/plain": [
       "             Datetime       NH3       Lat      Lon  Station weekday\n",
       "0 2012-01-01 04:00:00  0.053328  52.13795  4.83819  NL10633  Sunday\n",
       "1 2012-01-01 05:00:00  0.053328  52.13795  4.83819  NL10633  Sunday\n",
       "2 2012-01-01 06:00:00  0.066553  52.13795  4.83819  NL10633  Sunday\n",
       "3 2012-01-01 07:00:00  0.055461  52.13795  4.83819  NL10633  Sunday\n",
       "4 2012-01-01 08:00:00  0.066553  52.13795  4.83819  NL10633  Sunday"
      ]
     },
     "execution_count": 75,
     "metadata": {},
     "output_type": "execute_result"
    }
   ],
   "source": [
    "#append the day of the week to each data point (row)\n",
    "def add_weekday_column(df, date_column):\n",
    "    df['weekday'] = df[date_column].dt.day_name()\n",
    "    return df\n",
    "\n",
    "df= add_weekday_column(df, 'Datetime')\n",
    "df.head(5)"
   ]
  },
  {
   "cell_type": "code",
   "execution_count": 76,
   "metadata": {},
   "outputs": [
    {
     "data": {
      "text/html": [
       "<div>\n",
       "<style scoped>\n",
       "    .dataframe tbody tr th:only-of-type {\n",
       "        vertical-align: middle;\n",
       "    }\n",
       "\n",
       "    .dataframe tbody tr th {\n",
       "        vertical-align: top;\n",
       "    }\n",
       "\n",
       "    .dataframe thead th {\n",
       "        text-align: right;\n",
       "    }\n",
       "</style>\n",
       "<table border=\"1\" class=\"dataframe\">\n",
       "  <thead>\n",
       "    <tr style=\"text-align: right;\">\n",
       "      <th></th>\n",
       "      <th>Datetime</th>\n",
       "      <th>NH3</th>\n",
       "      <th>Lat</th>\n",
       "      <th>Lon</th>\n",
       "      <th>Station</th>\n",
       "      <th>weekday</th>\n",
       "    </tr>\n",
       "  </thead>\n",
       "  <tbody>\n",
       "    <tr>\n",
       "      <th>0</th>\n",
       "      <td>2012-01-01 04:00:00</td>\n",
       "      <td>0.053328</td>\n",
       "      <td>52.13795</td>\n",
       "      <td>4.83819</td>\n",
       "      <td>NL10633</td>\n",
       "      <td>Sunday</td>\n",
       "    </tr>\n",
       "    <tr>\n",
       "      <th>1</th>\n",
       "      <td>2012-01-01 05:00:00</td>\n",
       "      <td>0.053328</td>\n",
       "      <td>52.13795</td>\n",
       "      <td>4.83819</td>\n",
       "      <td>NL10633</td>\n",
       "      <td>Sunday</td>\n",
       "    </tr>\n",
       "    <tr>\n",
       "      <th>2</th>\n",
       "      <td>2012-01-01 06:00:00</td>\n",
       "      <td>0.066553</td>\n",
       "      <td>52.13795</td>\n",
       "      <td>4.83819</td>\n",
       "      <td>NL10633</td>\n",
       "      <td>Sunday</td>\n",
       "    </tr>\n",
       "    <tr>\n",
       "      <th>3</th>\n",
       "      <td>2012-01-01 07:00:00</td>\n",
       "      <td>0.055461</td>\n",
       "      <td>52.13795</td>\n",
       "      <td>4.83819</td>\n",
       "      <td>NL10633</td>\n",
       "      <td>Sunday</td>\n",
       "    </tr>\n",
       "    <tr>\n",
       "      <th>4</th>\n",
       "      <td>2012-01-01 08:00:00</td>\n",
       "      <td>0.066553</td>\n",
       "      <td>52.13795</td>\n",
       "      <td>4.83819</td>\n",
       "      <td>NL10633</td>\n",
       "      <td>Sunday</td>\n",
       "    </tr>\n",
       "  </tbody>\n",
       "</table>\n",
       "</div>"
      ],
      "text/plain": [
       "             Datetime       NH3       Lat      Lon  Station weekday\n",
       "0 2012-01-01 04:00:00  0.053328  52.13795  4.83819  NL10633  Sunday\n",
       "1 2012-01-01 05:00:00  0.053328  52.13795  4.83819  NL10633  Sunday\n",
       "2 2012-01-01 06:00:00  0.066553  52.13795  4.83819  NL10633  Sunday\n",
       "3 2012-01-01 07:00:00  0.055461  52.13795  4.83819  NL10633  Sunday\n",
       "4 2012-01-01 08:00:00  0.066553  52.13795  4.83819  NL10633  Sunday"
      ]
     },
     "execution_count": 76,
     "metadata": {},
     "output_type": "execute_result"
    }
   ],
   "source": [
    "#range of dates compatible with datetime format. \n",
    "start_date, end_date =  '2012-01-01', '2021-12-31'\n",
    "date_range = pd.date_range(start=start_date, end=end_date, freq=\"H\")\n",
    "\n",
    "df_subset = df[df['Datetime'].isin(date_range)]\n",
    "df_subset.head(5)"
   ]
  },
  {
   "cell_type": "code",
   "execution_count": 77,
   "metadata": {},
   "outputs": [
    {
     "name": "stdout",
     "output_type": "stream",
     "text": [
      "786521380.0 0.3810465928091087\n"
     ]
    }
   ],
   "source": [
    "import pandas as pd\n",
    "import datetime\n",
    "\n",
    "weekdays = ['Monday', 'Tuesday', 'Wednesday', 'Thursday', 'Friday']\n",
    "weekends = ['Saturday', 'Sunday']\n",
    "df_weekdays = df_subset[df_subset['weekday'].isin(weekdays)]\n",
    "df_weekends = df_subset[df_subset['weekday'].isin(weekends)]\n",
    "\n",
    "U1, p = mannwhitneyu(df_weekdays[\"NH3\"], df_weekends[\"NH3\"])\n",
    "\n",
    "print(U1, p)"
   ]
  },
  {
   "cell_type": "code",
   "execution_count": 78,
   "metadata": {},
   "outputs": [
    {
     "data": {
      "text/plain": [
       "[]"
      ]
     },
     "execution_count": 78,
     "metadata": {},
     "output_type": "execute_result"
    },
    {
     "data": {
      "image/png": "[encoded data removed]",
      "text/plain": [
       "<Figure size 640x480 with 1 Axes>"
      ]
     },
     "metadata": {},
     "output_type": "display_data"
    }
   ],
   "source": [
    "plt.hist(df_weekdays['NH3'], bins=24, alpha=0.5)\n",
    "plt.hist(df_weekends['NH3'], bins=24, alpha=0.5)\n",
    "plt.plot()"
   ]
  },
  {
   "cell_type": "code",
   "execution_count": 73,
   "metadata": {},
   "outputs": [
    {
     "data": {
      "text/plain": [
       "(count      61773\n",
       " unique         5\n",
       " top       Monday\n",
       " freq       12360\n",
       " Name: weekday, dtype: object,\n",
       " count      24685\n",
       " unique         2\n",
       " top       Sunday\n",
       " freq       12350\n",
       " Name: weekday, dtype: object)"
      ]
     },
     "execution_count": 73,
     "metadata": {},
     "output_type": "execute_result"
    }
   ],
   "source": [
    "df_weekdays[\"weekday\"].describe(),  df_weekends[\"weekday\"].describe()\n"
   ]
  },
  {
   "cell_type": "code",
   "execution_count": null,
   "metadata": {},
   "outputs": [],
   "source": []
  }
 ],
 "metadata": {
  "kernelspec": {
   "display_name": "Python 3",
   "language": "python",
   "name": "python3"
  },
  "language_info": {
   "codemirror_mode": {
    "name": "ipython",
    "version": 3
   },
   "file_extension": ".py",
   "mimetype": "text/x-python",
   "name": "python",
   "nbconvert_exporter": "python",
   "pygments_lexer": "ipython3",
   "version": "3.11.0 (main, Oct 24 2022, 18:26:48) [MSC v.1933 64 bit (AMD64)]"
  },
  "orig_nbformat": 4,
  "vscode": {
   "interpreter": {
    "hash": "3d12963955e4a747ca81a397c6ad0e065b2fae7a148c4ba1726dbe71e553a33c"
   }
  }
 },
 "nbformat": 4,
 "nbformat_minor": 2
}
