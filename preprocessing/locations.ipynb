{
 "cells": [
  {
   "cell_type": "code",
   "execution_count": 8,
   "metadata": {},
   "outputs": [],
   "source": [
    "import pandas as pd\n",
    "locations = [(\"NL10131\",51.54052,5.85307),(\"NL10444\",52.296556,4.510817),(\"NL10538\",52.803657,5.050509),(\"NL10633\",52.13795,4.83819),(\"NL10738\",52.111621,5.708419),(\"NL10929\",52.875725,6.932432)]\n",
    "names = [\"NL10131\",\"NL10444\",\"NL10538\",\"NL10633\",\"NL10738\",\"NL10929\"]\n",
    "\n",
    "#list(zip(locations, names))\n",
    "df = pd.DataFrame(locations, columns=[\"name\",\"lng\",\"lat\"])"
   ]
  },
  {
   "cell_type": "code",
   "execution_count": 9,
   "metadata": {},
   "outputs": [
    {
     "data": {
      "text/html": [
       "<div>\n",
       "<style scoped>\n",
       "    .dataframe tbody tr th:only-of-type {\n",
       "        vertical-align: middle;\n",
       "    }\n",
       "\n",
       "    .dataframe tbody tr th {\n",
       "        vertical-align: top;\n",
       "    }\n",
       "\n",
       "    .dataframe thead th {\n",
       "        text-align: right;\n",
       "    }\n",
       "</style>\n",
       "<table border=\"1\" class=\"dataframe\">\n",
       "  <thead>\n",
       "    <tr style=\"text-align: right;\">\n",
       "      <th></th>\n",
       "      <th>name</th>\n",
       "      <th>lng</th>\n",
       "      <th>lat</th>\n",
       "    </tr>\n",
       "  </thead>\n",
       "  <tbody>\n",
       "    <tr>\n",
       "      <th>0</th>\n",
       "      <td>NL10131</td>\n",
       "      <td>51.540520</td>\n",
       "      <td>5.853070</td>\n",
       "    </tr>\n",
       "    <tr>\n",
       "      <th>1</th>\n",
       "      <td>NL10444</td>\n",
       "      <td>52.296556</td>\n",
       "      <td>4.510817</td>\n",
       "    </tr>\n",
       "    <tr>\n",
       "      <th>2</th>\n",
       "      <td>NL10538</td>\n",
       "      <td>52.803657</td>\n",
       "      <td>5.050509</td>\n",
       "    </tr>\n",
       "    <tr>\n",
       "      <th>3</th>\n",
       "      <td>NL10633</td>\n",
       "      <td>52.137950</td>\n",
       "      <td>4.838190</td>\n",
       "    </tr>\n",
       "    <tr>\n",
       "      <th>4</th>\n",
       "      <td>NL10738</td>\n",
       "      <td>52.111621</td>\n",
       "      <td>5.708419</td>\n",
       "    </tr>\n",
       "    <tr>\n",
       "      <th>5</th>\n",
       "      <td>NL10929</td>\n",
       "      <td>52.875725</td>\n",
       "      <td>6.932432</td>\n",
       "    </tr>\n",
       "  </tbody>\n",
       "</table>\n",
       "</div>"
      ],
      "text/plain": [
       "      name        lng       lat\n",
       "0  NL10131  51.540520  5.853070\n",
       "1  NL10444  52.296556  4.510817\n",
       "2  NL10538  52.803657  5.050509\n",
       "3  NL10633  52.137950  4.838190\n",
       "4  NL10738  52.111621  5.708419\n",
       "5  NL10929  52.875725  6.932432"
      ]
     },
     "execution_count": 9,
     "metadata": {},
     "output_type": "execute_result"
    }
   ],
   "source": [
    "df"
   ]
  },
  {
   "cell_type": "code",
   "execution_count": 10,
   "metadata": {},
   "outputs": [],
   "source": [
    "df.to_csv(\"NH3_stations.csv\")"
   ]
  },
  {
   "cell_type": "code",
   "execution_count": null,
   "metadata": {},
   "outputs": [],
   "source": []
  }
 ],
 "metadata": {
  "kernelspec": {
   "display_name": "Python 3",
   "language": "python",
   "name": "python3"
  },
  "language_info": {
   "codemirror_mode": {
    "name": "ipython",
    "version": 3
   },
   "file_extension": ".py",
   "mimetype": "text/x-python",
   "name": "python",
   "nbconvert_exporter": "python",
   "pygments_lexer": "ipython3",
   "version": "3.11.0 (main, Oct 24 2022, 18:26:48) [MSC v.1933 64 bit (AMD64)]"
  },
  "orig_nbformat": 4,
  "vscode": {
   "interpreter": {
    "hash": "3a245d4cbb465740278049ca90d32e33d8adb0b2a51fe7b2940a86f16bf535cf"
   }
  }
 },
 "nbformat": 4,
 "nbformat_minor": 2
}
