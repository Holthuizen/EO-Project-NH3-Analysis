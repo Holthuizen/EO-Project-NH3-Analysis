{
 "cells": [
  {
   "cell_type": "code",
   "execution_count": 3,
   "metadata": {},
   "outputs": [],
   "source": [
    "import pandas as pd "
   ]
  },
  {
   "cell_type": "code",
   "execution_count": 26,
   "metadata": {},
   "outputs": [
    {
     "name": "stdout",
     "output_type": "stream",
     "text": [
      "KeyError\n"
     ]
    }
   ],
   "source": [
    "#file header row count\n",
    "header_size = 0\n",
    "\n",
    "#location tuples\n",
    "locations = [(51.54052,5.85307),(52.296556,4.510817),(52.803657,5.050509),(52.13795,4.83819),(52.111621,5.708419),(52.875725,6.932432)]\n",
    "#station names\n",
    "stations = [\"NL10131\",\"NL10444\",\"NL10538\",\"NL10633\",\"NL10738\",\"NL10929\"]\n",
    "\n",
    "for i in range(len(stations)):\n",
    "    s = stations[i]\n",
    "    l = locations[i]\t\t\t\t\t\n",
    "\n",
    "    df_2012_2019 = []\n",
    "    for year in [\"2012\", \"2013\", \"2014\", \"2015\", \"2016\", \"2017\", \"2018\", \"2019\", \"2020\", \"2021\"]: \n",
    "        #expects a directory structure data/2021\n",
    "        NH3 = pd.read_csv(f\"data/{year}_NH3.csv\", sep=';', skiprows=header_size)\n",
    "        NH3.rename(columns={\"Begindatumtijd\":\"Datetime\", s:\"NH3\"}, inplace=True)\n",
    "\n",
    "                \n",
    "        #time date conversion\n",
    "        # 20210101 00:00 -> 2021/01/01 00:00\n",
    "        # step 1, Convert second column to datetime (20210101 00:00 -> 2021/01/01 00:00)\n",
    "        NH3[\"Datetime\"] = pd.to_datetime(NH3[\"Datetime\"], format='%Y%m%d %H:%M')\n",
    "        df = NH3\n",
    "        df.set_index(\"Datetime\", inplace=True)\n",
    "    \n",
    "\n",
    "        try:\n",
    "            ###filter outliers\n",
    "            #find IQR\n",
    "            Q1, Q3= df[\"NH3\"].quantile(0.25), df[\"NH3\"].quantile(0.75)\n",
    "            IQR = Q3-Q1\n",
    "\n",
    "            #remove outliers based on the \"IQR * 1.5\" rule\n",
    "            df = df[(df[\"NH3\"]  > Q1 - (IQR * 1.5)) & (df[\"NH3\"] < Q3 + (IQR * 1.5))]\n",
    "\n",
    "            ###interpolate\n",
    "            # resample data to daily frequency and calculate median values {H, D, W, M, Q, Y}\n",
    "            df = df['NH3'].resample(\"H\").median(numeric_only=True).interpolate()\n",
    "\n",
    "            ###normalize min max\n",
    "            normalized_df = (df-df.min())/(df.max()-df.min())\n",
    "\n",
    "            df_2012_2019.append(normalized_df)\n",
    "        except KeyError:\n",
    "            print(\"KeyError\")\n",
    "\n",
    "\n",
    "        #concat row wise\n",
    "        #df = pd.DataFrame.from_records(df_2012_2019)\n",
    "        df  = pd.concat(df_2012_2019)\n",
    "        df = df.to_frame()\n",
    "\n",
    "        #static columns\n",
    "        df[\"Lat\"] = l[0]\n",
    "        df[\"Lon\"] = l[1]\n",
    "        df[\"Station\"] = s\n",
    "        #print(df.head(10))\n",
    "    \n",
    "        df.to_csv(f\"measurements/normalized/{s}_2012_2021.csv\", index=True)"
   ]
  },
  {
   "cell_type": "code",
   "execution_count": null,
   "metadata": {},
   "outputs": [],
   "source": []
  },
  {
   "cell_type": "code",
   "execution_count": null,
   "metadata": {},
   "outputs": [],
   "source": []
  }
 ],
 "metadata": {
  "kernelspec": {
   "display_name": "Python 3",
   "language": "python",
   "name": "python3"
  },
  "language_info": {
   "codemirror_mode": {
    "name": "ipython",
    "version": 3
   },
   "file_extension": ".py",
   "mimetype": "text/x-python",
   "name": "python",
   "nbconvert_exporter": "python",
   "pygments_lexer": "ipython3",
   "version": "3.11.0 (main, Oct 24 2022, 18:26:48) [MSC v.1933 64 bit (AMD64)]"
  },
  "orig_nbformat": 4,
  "vscode": {
   "interpreter": {
    "hash": "3a245d4cbb465740278049ca90d32e33d8adb0b2a51fe7b2940a86f16bf535cf"
   }
  }
 },
 "nbformat": 4,
 "nbformat_minor": 2
}
