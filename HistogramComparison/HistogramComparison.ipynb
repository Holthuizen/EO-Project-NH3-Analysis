{
 "cells": [
  {
   "cell_type": "code",
   "execution_count": 1,
   "metadata": {},
   "outputs": [
    {
     "data": {
      "text/html": [
       "<div>\n",
       "<style scoped>\n",
       "    .dataframe tbody tr th:only-of-type {\n",
       "        vertical-align: middle;\n",
       "    }\n",
       "\n",
       "    .dataframe tbody tr th {\n",
       "        vertical-align: top;\n",
       "    }\n",
       "\n",
       "    .dataframe thead th {\n",
       "        text-align: right;\n",
       "    }\n",
       "</style>\n",
       "<table border=\"1\" class=\"dataframe\">\n",
       "  <thead>\n",
       "    <tr style=\"text-align: right;\">\n",
       "      <th></th>\n",
       "      <th>Datetime</th>\n",
       "      <th>NH3</th>\n",
       "      <th>Lat</th>\n",
       "      <th>Lon</th>\n",
       "      <th>Station</th>\n",
       "    </tr>\n",
       "  </thead>\n",
       "  <tbody>\n",
       "    <tr>\n",
       "      <th>0</th>\n",
       "      <td>2012-01-01 04:00:00</td>\n",
       "      <td>0.105955</td>\n",
       "      <td>51.54052</td>\n",
       "      <td>5.85307</td>\n",
       "      <td>NL10131</td>\n",
       "    </tr>\n",
       "    <tr>\n",
       "      <th>1</th>\n",
       "      <td>2012-01-01 05:00:00</td>\n",
       "      <td>0.119305</td>\n",
       "      <td>51.54052</td>\n",
       "      <td>5.85307</td>\n",
       "      <td>NL10131</td>\n",
       "    </tr>\n",
       "    <tr>\n",
       "      <th>2</th>\n",
       "      <td>2012-01-01 06:00:00</td>\n",
       "      <td>0.119305</td>\n",
       "      <td>51.54052</td>\n",
       "      <td>5.85307</td>\n",
       "      <td>NL10131</td>\n",
       "    </tr>\n",
       "    <tr>\n",
       "      <th>3</th>\n",
       "      <td>2012-01-01 07:00:00</td>\n",
       "      <td>0.119305</td>\n",
       "      <td>51.54052</td>\n",
       "      <td>5.85307</td>\n",
       "      <td>NL10131</td>\n",
       "    </tr>\n",
       "    <tr>\n",
       "      <th>4</th>\n",
       "      <td>2012-01-01 08:00:00</td>\n",
       "      <td>0.119305</td>\n",
       "      <td>51.54052</td>\n",
       "      <td>5.85307</td>\n",
       "      <td>NL10131</td>\n",
       "    </tr>\n",
       "  </tbody>\n",
       "</table>\n",
       "</div>"
      ],
      "text/plain": [
       "             Datetime       NH3       Lat      Lon  Station\n",
       "0 2012-01-01 04:00:00  0.105955  51.54052  5.85307  NL10131\n",
       "1 2012-01-01 05:00:00  0.119305  51.54052  5.85307  NL10131\n",
       "2 2012-01-01 06:00:00  0.119305  51.54052  5.85307  NL10131\n",
       "3 2012-01-01 07:00:00  0.119305  51.54052  5.85307  NL10131\n",
       "4 2012-01-01 08:00:00  0.119305  51.54052  5.85307  NL10131"
      ]
     },
     "execution_count": 1,
     "metadata": {},
     "output_type": "execute_result"
    }
   ],
   "source": [
    "#MAN TEST\n",
    "from scipy.stats import mannwhitneyu\n",
    "import seaborn as sns\n",
    "import numpy as np\n",
    "import matplotlib.pyplot as plt\n",
    "import pandas as pd\n",
    "import datetime\n",
    "\n",
    "df = pd.read_csv('measurements/normalized/NL10131_2012_2021.csv', parse_dates=[0])\n",
    "df.head(5)"
   ]
  },
  {
   "cell_type": "code",
   "execution_count": 5,
   "metadata": {},
   "outputs": [
    {
     "data": {
      "text/html": [
       "<div>\n",
       "<style scoped>\n",
       "    .dataframe tbody tr th:only-of-type {\n",
       "        vertical-align: middle;\n",
       "    }\n",
       "\n",
       "    .dataframe tbody tr th {\n",
       "        vertical-align: top;\n",
       "    }\n",
       "\n",
       "    .dataframe thead th {\n",
       "        text-align: right;\n",
       "    }\n",
       "</style>\n",
       "<table border=\"1\" class=\"dataframe\">\n",
       "  <thead>\n",
       "    <tr style=\"text-align: right;\">\n",
       "      <th></th>\n",
       "      <th>Datetime</th>\n",
       "      <th>NH3</th>\n",
       "      <th>Lat</th>\n",
       "      <th>Lon</th>\n",
       "      <th>Station</th>\n",
       "      <th>weekday</th>\n",
       "    </tr>\n",
       "  </thead>\n",
       "  <tbody>\n",
       "    <tr>\n",
       "      <th>0</th>\n",
       "      <td>2012-01-01 04:00:00</td>\n",
       "      <td>0.105955</td>\n",
       "      <td>51.54052</td>\n",
       "      <td>5.85307</td>\n",
       "      <td>NL10131</td>\n",
       "      <td>Sunday</td>\n",
       "    </tr>\n",
       "    <tr>\n",
       "      <th>1</th>\n",
       "      <td>2012-01-01 05:00:00</td>\n",
       "      <td>0.119305</td>\n",
       "      <td>51.54052</td>\n",
       "      <td>5.85307</td>\n",
       "      <td>NL10131</td>\n",
       "      <td>Sunday</td>\n",
       "    </tr>\n",
       "    <tr>\n",
       "      <th>2</th>\n",
       "      <td>2012-01-01 06:00:00</td>\n",
       "      <td>0.119305</td>\n",
       "      <td>51.54052</td>\n",
       "      <td>5.85307</td>\n",
       "      <td>NL10131</td>\n",
       "      <td>Sunday</td>\n",
       "    </tr>\n",
       "    <tr>\n",
       "      <th>3</th>\n",
       "      <td>2012-01-01 07:00:00</td>\n",
       "      <td>0.119305</td>\n",
       "      <td>51.54052</td>\n",
       "      <td>5.85307</td>\n",
       "      <td>NL10131</td>\n",
       "      <td>Sunday</td>\n",
       "    </tr>\n",
       "    <tr>\n",
       "      <th>4</th>\n",
       "      <td>2012-01-01 08:00:00</td>\n",
       "      <td>0.119305</td>\n",
       "      <td>51.54052</td>\n",
       "      <td>5.85307</td>\n",
       "      <td>NL10131</td>\n",
       "      <td>Sunday</td>\n",
       "    </tr>\n",
       "  </tbody>\n",
       "</table>\n",
       "</div>"
      ],
      "text/plain": [
       "             Datetime       NH3       Lat      Lon  Station weekday\n",
       "0 2012-01-01 04:00:00  0.105955  51.54052  5.85307  NL10131  Sunday\n",
       "1 2012-01-01 05:00:00  0.119305  51.54052  5.85307  NL10131  Sunday\n",
       "2 2012-01-01 06:00:00  0.119305  51.54052  5.85307  NL10131  Sunday\n",
       "3 2012-01-01 07:00:00  0.119305  51.54052  5.85307  NL10131  Sunday\n",
       "4 2012-01-01 08:00:00  0.119305  51.54052  5.85307  NL10131  Sunday"
      ]
     },
     "execution_count": 5,
     "metadata": {},
     "output_type": "execute_result"
    }
   ],
   "source": [
    "#append the day of the week to each data point (row)\n",
    "def add_weekday_column(df, date_column):\n",
    "    df['weekday'] = df[date_column].dt.day_name()\n",
    "    return df\n",
    "\n",
    "df_weekdays_2012_2021 = add_weekday_column(df, 'Datetime')\n",
    "df_weekdays_2012_2021.head(5)"
   ]
  },
  {
   "cell_type": "code",
   "execution_count": 6,
   "metadata": {},
   "outputs": [
    {
     "data": {
      "text/html": [
       "<div>\n",
       "<style scoped>\n",
       "    .dataframe tbody tr th:only-of-type {\n",
       "        vertical-align: middle;\n",
       "    }\n",
       "\n",
       "    .dataframe tbody tr th {\n",
       "        vertical-align: top;\n",
       "    }\n",
       "\n",
       "    .dataframe thead th {\n",
       "        text-align: right;\n",
       "    }\n",
       "</style>\n",
       "<table border=\"1\" class=\"dataframe\">\n",
       "  <thead>\n",
       "    <tr style=\"text-align: right;\">\n",
       "      <th></th>\n",
       "      <th>Datetime</th>\n",
       "      <th>NH3</th>\n",
       "      <th>Lat</th>\n",
       "      <th>Lon</th>\n",
       "      <th>Station</th>\n",
       "      <th>weekday</th>\n",
       "    </tr>\n",
       "  </thead>\n",
       "  <tbody>\n",
       "    <tr>\n",
       "      <th>0</th>\n",
       "      <td>2012-01-01 04:00:00</td>\n",
       "      <td>0.105955</td>\n",
       "      <td>51.54052</td>\n",
       "      <td>5.85307</td>\n",
       "      <td>NL10131</td>\n",
       "      <td>Sunday</td>\n",
       "    </tr>\n",
       "    <tr>\n",
       "      <th>1</th>\n",
       "      <td>2012-01-01 05:00:00</td>\n",
       "      <td>0.119305</td>\n",
       "      <td>51.54052</td>\n",
       "      <td>5.85307</td>\n",
       "      <td>NL10131</td>\n",
       "      <td>Sunday</td>\n",
       "    </tr>\n",
       "    <tr>\n",
       "      <th>2</th>\n",
       "      <td>2012-01-01 06:00:00</td>\n",
       "      <td>0.119305</td>\n",
       "      <td>51.54052</td>\n",
       "      <td>5.85307</td>\n",
       "      <td>NL10131</td>\n",
       "      <td>Sunday</td>\n",
       "    </tr>\n",
       "    <tr>\n",
       "      <th>3</th>\n",
       "      <td>2012-01-01 07:00:00</td>\n",
       "      <td>0.119305</td>\n",
       "      <td>51.54052</td>\n",
       "      <td>5.85307</td>\n",
       "      <td>NL10131</td>\n",
       "      <td>Sunday</td>\n",
       "    </tr>\n",
       "    <tr>\n",
       "      <th>4</th>\n",
       "      <td>2012-01-01 08:00:00</td>\n",
       "      <td>0.119305</td>\n",
       "      <td>51.54052</td>\n",
       "      <td>5.85307</td>\n",
       "      <td>NL10131</td>\n",
       "      <td>Sunday</td>\n",
       "    </tr>\n",
       "  </tbody>\n",
       "</table>\n",
       "</div>"
      ],
      "text/plain": [
       "             Datetime       NH3       Lat      Lon  Station weekday\n",
       "0 2012-01-01 04:00:00  0.105955  51.54052  5.85307  NL10131  Sunday\n",
       "1 2012-01-01 05:00:00  0.119305  51.54052  5.85307  NL10131  Sunday\n",
       "2 2012-01-01 06:00:00  0.119305  51.54052  5.85307  NL10131  Sunday\n",
       "3 2012-01-01 07:00:00  0.119305  51.54052  5.85307  NL10131  Sunday\n",
       "4 2012-01-01 08:00:00  0.119305  51.54052  5.85307  NL10131  Sunday"
      ]
     },
     "execution_count": 6,
     "metadata": {},
     "output_type": "execute_result"
    }
   ],
   "source": [
    "#append the day of the week to each data point (row)\n",
    "def add_weekday_column(df, date_column):\n",
    "    df['weekday'] = df[date_column].dt.day_name()\n",
    "    return df\n",
    "\n",
    "df= add_weekday_column(df, 'Datetime')\n",
    "df.head(5)"
   ]
  },
  {
   "cell_type": "code",
   "execution_count": 7,
   "metadata": {},
   "outputs": [
    {
     "data": {
      "text/html": [
       "<div>\n",
       "<style scoped>\n",
       "    .dataframe tbody tr th:only-of-type {\n",
       "        vertical-align: middle;\n",
       "    }\n",
       "\n",
       "    .dataframe tbody tr th {\n",
       "        vertical-align: top;\n",
       "    }\n",
       "\n",
       "    .dataframe thead th {\n",
       "        text-align: right;\n",
       "    }\n",
       "</style>\n",
       "<table border=\"1\" class=\"dataframe\">\n",
       "  <thead>\n",
       "    <tr style=\"text-align: right;\">\n",
       "      <th></th>\n",
       "      <th>Datetime</th>\n",
       "      <th>NH3</th>\n",
       "      <th>Lat</th>\n",
       "      <th>Lon</th>\n",
       "      <th>Station</th>\n",
       "      <th>weekday</th>\n",
       "    </tr>\n",
       "  </thead>\n",
       "  <tbody>\n",
       "    <tr>\n",
       "      <th>60177</th>\n",
       "      <td>2019-01-01</td>\n",
       "      <td>0.096855</td>\n",
       "      <td>51.54052</td>\n",
       "      <td>5.85307</td>\n",
       "      <td>NL10131</td>\n",
       "      <td>Tuesday</td>\n",
       "    </tr>\n",
       "    <tr>\n",
       "      <th>60201</th>\n",
       "      <td>2019-01-02</td>\n",
       "      <td>0.074334</td>\n",
       "      <td>51.54052</td>\n",
       "      <td>5.85307</td>\n",
       "      <td>NL10131</td>\n",
       "      <td>Wednesday</td>\n",
       "    </tr>\n",
       "    <tr>\n",
       "      <th>60225</th>\n",
       "      <td>2019-01-03</td>\n",
       "      <td>0.295155</td>\n",
       "      <td>51.54052</td>\n",
       "      <td>5.85307</td>\n",
       "      <td>NL10131</td>\n",
       "      <td>Thursday</td>\n",
       "    </tr>\n",
       "    <tr>\n",
       "      <th>60249</th>\n",
       "      <td>2019-01-04</td>\n",
       "      <td>0.339628</td>\n",
       "      <td>51.54052</td>\n",
       "      <td>5.85307</td>\n",
       "      <td>NL10131</td>\n",
       "      <td>Friday</td>\n",
       "    </tr>\n",
       "    <tr>\n",
       "      <th>60273</th>\n",
       "      <td>2019-01-05</td>\n",
       "      <td>0.208526</td>\n",
       "      <td>51.54052</td>\n",
       "      <td>5.85307</td>\n",
       "      <td>NL10131</td>\n",
       "      <td>Saturday</td>\n",
       "    </tr>\n",
       "  </tbody>\n",
       "</table>\n",
       "</div>"
      ],
      "text/plain": [
       "        Datetime       NH3       Lat      Lon  Station    weekday\n",
       "60177 2019-01-01  0.096855  51.54052  5.85307  NL10131    Tuesday\n",
       "60201 2019-01-02  0.074334  51.54052  5.85307  NL10131  Wednesday\n",
       "60225 2019-01-03  0.295155  51.54052  5.85307  NL10131   Thursday\n",
       "60249 2019-01-04  0.339628  51.54052  5.85307  NL10131     Friday\n",
       "60273 2019-01-05  0.208526  51.54052  5.85307  NL10131   Saturday"
      ]
     },
     "execution_count": 7,
     "metadata": {},
     "output_type": "execute_result"
    }
   ],
   "source": [
    "#range of dates compatible with datetime format. \n",
    "start_date, end_date =  '2019-01-01', '2019-06-27'\n",
    "date_range = pd.date_range(start=start_date, end=end_date)\n",
    "\n",
    "df_subset = df_weekdays_2012_2021[df_weekdays_2012_2021['Datetime'].isin(date_range)]\n",
    "df_subset.head(5)"
   ]
  },
  {
   "cell_type": "code",
   "execution_count": 8,
   "metadata": {},
   "outputs": [
    {
     "name": "stdout",
     "output_type": "stream",
     "text": [
      "3002.5 0.5259962184470519\n"
     ]
    }
   ],
   "source": [
    "import pandas as pd\n",
    "import datetime\n",
    "\n",
    "weekdays = ['Monday', 'Tuesday', 'Wednesday', 'Thursday', 'Friday']\n",
    "weekends = ['Saturday', 'Sunday']\n",
    "df_weekdays = df_subset[df_subset['weekday'].isin(weekdays)]\n",
    "df_weekends = df_subset[df_subset['weekday'].isin(weekends)]\n",
    "\n",
    "df_weekdays[\"weekday\"].describe()\n",
    "df_weekends[\"weekday\"].describe()\n",
    "\n",
    "#weekdays\n",
    "\n",
    "\n",
    "U1, p = mannwhitneyu(df_weekdays[\"NH3\"], df_weekends[\"NH3\"], method=\"exact\")\n",
    "\n",
    "print(U1, p)\n",
    "#print(weekends)"
   ]
  },
  {
   "cell_type": "code",
   "execution_count": 9,
   "metadata": {},
   "outputs": [
    {
     "data": {
      "text/plain": [
       "[]"
      ]
     },
     "execution_count": 9,
     "metadata": {},
     "output_type": "execute_result"
    },
    {
     "data": {
      "image/png": "[encoded data removed]",
      "text/plain": [
       "<Figure size 640x480 with 1 Axes>"
      ]
     },
     "metadata": {},
     "output_type": "display_data"
    }
   ],
   "source": [
    "plt.hist(df_weekdays['NH3'], bins=20, alpha=0.5)\n",
    "plt.hist(df_weekends['NH3'], bins=20, alpha=0.5)\n",
    "plt.plot()"
   ]
  },
  {
   "cell_type": "code",
   "execution_count": 2,
   "metadata": {},
   "outputs": [
    {
     "ename": "NameError",
     "evalue": "name 'df_subset' is not defined",
     "output_type": "error",
     "traceback": [
      "\u001b[1;31m---------------------------------------------------------------------------\u001b[0m",
      "\u001b[1;31mNameError\u001b[0m                                 Traceback (most recent call last)",
      "Cell \u001b[1;32mIn[2], line 4\u001b[0m\n\u001b[0;32m      2\u001b[0m f \u001b[39m=\u001b[39m plt\u001b[39m.\u001b[39mfigure(figsize\u001b[39m=\u001b[39m(\u001b[39m6\u001b[39m,\u001b[39m6\u001b[39m))\n\u001b[0;32m      3\u001b[0m sns\u001b[39m.\u001b[39mset_style(\u001b[39m'\u001b[39m\u001b[39mticks\u001b[39m\u001b[39m'\u001b[39m)\n\u001b[1;32m----> 4\u001b[0m ax \u001b[39m=\u001b[39m sns\u001b[39m.\u001b[39mboxplot(x\u001b[39m=\u001b[39m\u001b[39m'\u001b[39m\u001b[39mweekday\u001b[39m\u001b[39m'\u001b[39m, y\u001b[39m=\u001b[39m\u001b[39m'\u001b[39m\u001b[39mNH3\u001b[39m\u001b[39m'\u001b[39m, data\u001b[39m=\u001b[39mdf_subset[[\u001b[39m\"\u001b[39m\u001b[39mNH3\u001b[39m\u001b[39m\"\u001b[39m, \u001b[39m\"\u001b[39m\u001b[39mweekday\u001b[39m\u001b[39m\"\u001b[39m]], color\u001b[39m=\u001b[39m\u001b[39m'\u001b[39m\u001b[39mg\u001b[39m\u001b[39m'\u001b[39m, order\u001b[39m=\u001b[39m[\u001b[39m\"\u001b[39m\u001b[39mMonday\u001b[39m\u001b[39m\"\u001b[39m, \u001b[39m\"\u001b[39m\u001b[39mTuesday\u001b[39m\u001b[39m\"\u001b[39m, \u001b[39m\"\u001b[39m\u001b[39mWednesday\u001b[39m\u001b[39m\"\u001b[39m, \u001b[39m\"\u001b[39m\u001b[39mThursday\u001b[39m\u001b[39m\"\u001b[39m, \u001b[39m\"\u001b[39m\u001b[39mFriday\u001b[39m\u001b[39m\"\u001b[39m, \u001b[39m\"\u001b[39m\u001b[39mSaturday\u001b[39m\u001b[39m\"\u001b[39m, \u001b[39m\"\u001b[39m\u001b[39mSunday\u001b[39m\u001b[39m\"\u001b[39m])\n\u001b[0;32m      5\u001b[0m ax\u001b[39m.\u001b[39mgrid()\n\u001b[0;32m      6\u001b[0m \u001b[39m#ax.axhline(0.1)\u001b[39;00m\n",
      "\u001b[1;31mNameError\u001b[0m: name 'df_subset' is not defined"
     ]
    },
    {
     "data": {
      "text/plain": [
       "<Figure size 600x600 with 0 Axes>"
      ]
     },
     "metadata": {},
     "output_type": "display_data"
    }
   ],
   "source": [
    "#create boxplot based on date_range form previous cell.\n",
    "f = plt.figure(figsize=(6,6))\n",
    "sns.set_style('ticks')\n",
    "\n",
    "ax.set(xlabel='Days of the week', ylabel='normalized NH3 levels', title='NL10131 normalized NH3 values from '\n",
    "       +str(start_date)+\" to \"+str(end_date)+\".\")\n",
    "f.tight_layout()\n",
    "f.savefig(f\"output/boxplotNH3_\" + str(start_date)+\"_\"+str(end_date)+\".png\", dpi=300)\n",
    "f.show()"
   ]
  },
  {
   "cell_type": "code",
   "execution_count": null,
   "metadata": {},
   "outputs": [],
   "source": []
  }
 ],
 "metadata": {
  "kernelspec": {
   "display_name": "Python 3",
   "language": "python",
   "name": "python3"
  },
  "language_info": {
   "codemirror_mode": {
    "name": "ipython",
    "version": 3
   },
   "file_extension": ".py",
   "mimetype": "text/x-python",
   "name": "python",
   "nbconvert_exporter": "python",
   "pygments_lexer": "ipython3",
   "version": "3.11.0"
  },
  "orig_nbformat": 4,
  "vscode": {
   "interpreter": {
    "hash": "3d12963955e4a747ca81a397c6ad0e065b2fae7a148c4ba1726dbe71e553a33c"
   }
  }
 },
 "nbformat": 4,
 "nbformat_minor": 2
}
